{
  "nbformat": 4,
  "nbformat_minor": 0,
  "metadata": {
    "colab": {
      "name": "03-my-Logistic Regression",
      "provenance": [],
      "collapsed_sections": []
    },
    "kernelspec": {
      "name": "python3",
      "display_name": "Python 3"
    },
    "language_info": {
      "name": "python"
    }
  },
  "cells": [
    {
      "cell_type": "markdown",
      "metadata": {
        "id": "4hoEpRQx2nwW"
      },
      "source": [
        "# **Logistic Regression**\n",
        "\n",
        "\n",
        "---\n",
        "\n"
      ]
    },
    {
      "cell_type": "code",
      "metadata": {
        "id": "8K1GQ4iR1mdy"
      },
      "source": [
        "# Importing important libraries\n",
        "import pandas as pd\n",
        "import numpy as np\n",
        "import matplotlib.pyplot as plt\n",
        "import random\n",
        "import math\n",
        "from sklearn.model_selection import train_test_split as splt\n",
        "from sklearn.metrics import mean_squared_error as mse"
      ],
      "execution_count": null,
      "outputs": []
    },
    {
      "cell_type": "code",
      "metadata": {
        "id": "O4CCtY7uMDgk"
      },
      "source": [
        "# Defining a customized random function:\n",
        "# Inputs: a lower bound, b upper bound, i = True whether integer, d = True whether decimal\n",
        "# Output; A random number \n",
        "def randomnum (a, b, i = False, d = False, k = None):\n",
        "    if i == True:\n",
        "        return int(((random.randrange(0,10)/10)*(b-a))+a)\n",
        "    else: return (((random.randrange(0,10**k)/10**k)*(b-a))+a)"
      ],
      "execution_count": null,
      "outputs": []
    },
    {
      "cell_type": "markdown",
      "metadata": {
        "id": "5cQYqMBx3XOM"
      },
      "source": [
        "Part 01: Dealing with data "
      ]
    },
    {
      "cell_type": "code",
      "metadata": {
        "colab": {
          "base_uri": "https://localhost:8080/",
          "height": 423
        },
        "id": "kQcsAPWs3a6a",
        "outputId": "4fcdcc13-6aa2-497a-f3f7-fbc4d13d4279"
      },
      "source": [
        "# Reading the data\n",
        "data = pd.read_csv('/content/drive/MyDrive/Machine Learning/DataSets/LR_Multivariate.csv')\n",
        "# Look at data\n",
        "data = data.drop(labels='Yr',axis=1)\n",
        "data"
      ],
      "execution_count": null,
      "outputs": [
        {
          "output_type": "execute_result",
          "data": {
            "text/html": [
              "<div>\n",
              "<style scoped>\n",
              "    .dataframe tbody tr th:only-of-type {\n",
              "        vertical-align: middle;\n",
              "    }\n",
              "\n",
              "    .dataframe tbody tr th {\n",
              "        vertical-align: top;\n",
              "    }\n",
              "\n",
              "    .dataframe thead th {\n",
              "        text-align: right;\n",
              "    }\n",
              "</style>\n",
              "<table border=\"1\" class=\"dataframe\">\n",
              "  <thead>\n",
              "    <tr style=\"text-align: right;\">\n",
              "      <th></th>\n",
              "      <th>X1</th>\n",
              "      <th>X2</th>\n",
              "      <th>X3</th>\n",
              "      <th>X4</th>\n",
              "      <th>X5</th>\n",
              "      <th>X6</th>\n",
              "      <th>X7</th>\n",
              "      <th>X8</th>\n",
              "      <th>X9</th>\n",
              "      <th>X10</th>\n",
              "      <th>X11</th>\n",
              "      <th>X12</th>\n",
              "      <th>Yc</th>\n",
              "    </tr>\n",
              "  </thead>\n",
              "  <tbody>\n",
              "    <tr>\n",
              "      <th>0</th>\n",
              "      <td>18</td>\n",
              "      <td>3</td>\n",
              "      <td>0.34</td>\n",
              "      <td>0.025</td>\n",
              "      <td>0.85</td>\n",
              "      <td>27</td>\n",
              "      <td>37</td>\n",
              "      <td>35</td>\n",
              "      <td>26</td>\n",
              "      <td>396</td>\n",
              "      <td>12</td>\n",
              "      <td>14</td>\n",
              "      <td>0</td>\n",
              "    </tr>\n",
              "    <tr>\n",
              "      <th>1</th>\n",
              "      <td>4</td>\n",
              "      <td>43</td>\n",
              "      <td>0.45</td>\n",
              "      <td>0.145</td>\n",
              "      <td>0.65</td>\n",
              "      <td>6</td>\n",
              "      <td>11</td>\n",
              "      <td>13</td>\n",
              "      <td>16</td>\n",
              "      <td>119</td>\n",
              "      <td>42</td>\n",
              "      <td>27</td>\n",
              "      <td>1</td>\n",
              "    </tr>\n",
              "    <tr>\n",
              "      <th>2</th>\n",
              "      <td>12</td>\n",
              "      <td>12</td>\n",
              "      <td>0.76</td>\n",
              "      <td>0.765</td>\n",
              "      <td>0.70</td>\n",
              "      <td>20</td>\n",
              "      <td>32</td>\n",
              "      <td>35</td>\n",
              "      <td>28</td>\n",
              "      <td>364</td>\n",
              "      <td>2</td>\n",
              "      <td>12</td>\n",
              "      <td>1</td>\n",
              "    </tr>\n",
              "    <tr>\n",
              "      <th>3</th>\n",
              "      <td>11</td>\n",
              "      <td>90</td>\n",
              "      <td>0.97</td>\n",
              "      <td>0.755</td>\n",
              "      <td>0.60</td>\n",
              "      <td>10</td>\n",
              "      <td>0</td>\n",
              "      <td>43</td>\n",
              "      <td>41</td>\n",
              "      <td>459</td>\n",
              "      <td>23</td>\n",
              "      <td>38</td>\n",
              "      <td>1</td>\n",
              "    </tr>\n",
              "    <tr>\n",
              "      <th>4</th>\n",
              "      <td>36</td>\n",
              "      <td>7</td>\n",
              "      <td>0.56</td>\n",
              "      <td>0.935</td>\n",
              "      <td>0.00</td>\n",
              "      <td>46</td>\n",
              "      <td>35</td>\n",
              "      <td>4</td>\n",
              "      <td>43</td>\n",
              "      <td>91</td>\n",
              "      <td>28</td>\n",
              "      <td>2</td>\n",
              "      <td>1</td>\n",
              "    </tr>\n",
              "    <tr>\n",
              "      <th>...</th>\n",
              "      <td>...</td>\n",
              "      <td>...</td>\n",
              "      <td>...</td>\n",
              "      <td>...</td>\n",
              "      <td>...</td>\n",
              "      <td>...</td>\n",
              "      <td>...</td>\n",
              "      <td>...</td>\n",
              "      <td>...</td>\n",
              "      <td>...</td>\n",
              "      <td>...</td>\n",
              "      <td>...</td>\n",
              "      <td>...</td>\n",
              "    </tr>\n",
              "    <tr>\n",
              "      <th>744</th>\n",
              "      <td>10</td>\n",
              "      <td>11</td>\n",
              "      <td>0.77</td>\n",
              "      <td>0.110</td>\n",
              "      <td>2.50</td>\n",
              "      <td>7</td>\n",
              "      <td>46</td>\n",
              "      <td>3</td>\n",
              "      <td>20</td>\n",
              "      <td>100</td>\n",
              "      <td>25</td>\n",
              "      <td>14</td>\n",
              "      <td>1</td>\n",
              "    </tr>\n",
              "    <tr>\n",
              "      <th>745</th>\n",
              "      <td>35</td>\n",
              "      <td>53</td>\n",
              "      <td>0.60</td>\n",
              "      <td>0.750</td>\n",
              "      <td>1.60</td>\n",
              "      <td>0</td>\n",
              "      <td>14</td>\n",
              "      <td>2</td>\n",
              "      <td>6</td>\n",
              "      <td>98</td>\n",
              "      <td>21</td>\n",
              "      <td>49</td>\n",
              "      <td>1</td>\n",
              "    </tr>\n",
              "    <tr>\n",
              "      <th>746</th>\n",
              "      <td>20</td>\n",
              "      <td>0</td>\n",
              "      <td>0.66</td>\n",
              "      <td>0.740</td>\n",
              "      <td>1.60</td>\n",
              "      <td>31</td>\n",
              "      <td>8</td>\n",
              "      <td>46</td>\n",
              "      <td>46</td>\n",
              "      <td>245</td>\n",
              "      <td>7</td>\n",
              "      <td>23</td>\n",
              "      <td>1</td>\n",
              "    </tr>\n",
              "    <tr>\n",
              "      <th>747</th>\n",
              "      <td>21</td>\n",
              "      <td>68</td>\n",
              "      <td>0.56</td>\n",
              "      <td>0.025</td>\n",
              "      <td>0.60</td>\n",
              "      <td>3</td>\n",
              "      <td>28</td>\n",
              "      <td>22</td>\n",
              "      <td>17</td>\n",
              "      <td>2</td>\n",
              "      <td>30</td>\n",
              "      <td>6</td>\n",
              "      <td>1</td>\n",
              "    </tr>\n",
              "    <tr>\n",
              "      <th>748</th>\n",
              "      <td>12</td>\n",
              "      <td>2</td>\n",
              "      <td>0.83</td>\n",
              "      <td>0.995</td>\n",
              "      <td>2.50</td>\n",
              "      <td>1</td>\n",
              "      <td>11</td>\n",
              "      <td>36</td>\n",
              "      <td>45</td>\n",
              "      <td>86</td>\n",
              "      <td>30</td>\n",
              "      <td>8</td>\n",
              "      <td>1</td>\n",
              "    </tr>\n",
              "  </tbody>\n",
              "</table>\n",
              "<p>749 rows × 13 columns</p>\n",
              "</div>"
            ],
            "text/plain": [
              "     X1  X2    X3     X4    X5  X6  X7  X8  X9  X10  X11  X12  Yc\n",
              "0    18   3  0.34  0.025  0.85  27  37  35  26  396   12   14   0\n",
              "1     4  43  0.45  0.145  0.65   6  11  13  16  119   42   27   1\n",
              "2    12  12  0.76  0.765  0.70  20  32  35  28  364    2   12   1\n",
              "3    11  90  0.97  0.755  0.60  10   0  43  41  459   23   38   1\n",
              "4    36   7  0.56  0.935  0.00  46  35   4  43   91   28    2   1\n",
              "..   ..  ..   ...    ...   ...  ..  ..  ..  ..  ...  ...  ...  ..\n",
              "744  10  11  0.77  0.110  2.50   7  46   3  20  100   25   14   1\n",
              "745  35  53  0.60  0.750  1.60   0  14   2   6   98   21   49   1\n",
              "746  20   0  0.66  0.740  1.60  31   8  46  46  245    7   23   1\n",
              "747  21  68  0.56  0.025  0.60   3  28  22  17    2   30    6   1\n",
              "748  12   2  0.83  0.995  2.50   1  11  36  45   86   30    8   1\n",
              "\n",
              "[749 rows x 13 columns]"
            ]
          },
          "metadata": {},
          "execution_count": 110
        }
      ]
    },
    {
      "cell_type": "markdown",
      "metadata": {
        "id": "YoHi9U_FSZVE"
      },
      "source": [
        "Part 02: Dividing the data"
      ]
    },
    {
      "cell_type": "code",
      "metadata": {
        "id": "fBR1-gBmSczD"
      },
      "source": [
        "# Dividing the data into feature and label\n",
        "x,y = data.drop(labels='Yc', axis = 1), data['Yc']\n",
        "xtr,xte,ytr,yte = splt(x,y,test_size=0.2,random_state=1)"
      ],
      "execution_count": null,
      "outputs": []
    },
    {
      "cell_type": "markdown",
      "metadata": {
        "id": "9BEON2j-TT7M"
      },
      "source": [
        "Part 03: Defining the Required Function"
      ]
    },
    {
      "cell_type": "code",
      "metadata": {
        "id": "Mfi79pnbTfyC"
      },
      "source": [
        "# Goal:  Define a function Gradient Descent that takes two arrays and gives back the w and b\n",
        "# Inputs: x, y, lr, epoch\n",
        "# outputs: W\n",
        "def Grad_Des (x,y,lr=0.02,epoch=10):\n",
        "    idx = x.index\n",
        "    x = np.c_[np.ones((x.shape[0],1)),x]\n",
        "    W = np.ones(x.shape[1])\n",
        "    m = y.shape[0]\n",
        "    for i in range(epoch):\n",
        "        y_hat = sigmoid(W,x)\n",
        "        W = W - (1/m)*lr*( x.T.dot((y_hat - y)))\n",
        "    return W"
      ],
      "execution_count": null,
      "outputs": []
    },
    {
      "cell_type": "code",
      "metadata": {
        "id": "PUAv_S9hVjPR"
      },
      "source": [
        "# Goal: Define a function that gives the sigmoid value \n",
        "# Inputs: W and X\n",
        "# Output: Y_hat\n",
        "def sigmoid (w, x):\n",
        "    pred = np.dot(w,x.T)/1000000\n",
        "    a = np.exp((pred))\n",
        "    pred1 = (a/(1+a))+1e-9\n",
        "    for i in range(0,x.shape[0]):\n",
        "        if pred1[i] == None:\n",
        "            pred1[i] = 0\n",
        "        if pred1[i] >= 0.5:\n",
        "            pred1[i] = 1         \n",
        "        else: pred1[i] = 0\n",
        "    return pred1"
      ],
      "execution_count": null,
      "outputs": []
    },
    {
      "cell_type": "code",
      "metadata": {
        "colab": {
          "base_uri": "https://localhost:8080/"
        },
        "id": "TFZChcaKXZsJ",
        "outputId": "428c64b7-642a-4b71-be60-0c4bd9d3b35e"
      },
      "source": [
        "print(Grad_Des(xtr,ytr))"
      ],
      "execution_count": null,
      "outputs": [
        {
          "output_type": "stream",
          "name": "stdout",
          "text": [
            "[0.9887813  0.55709516 0.23278798 1.00815726 0.99407045 0.98508347\n",
            " 0.13322204 0.6424374  0.65986644 0.71442404 0.90123539 0.68203673\n",
            " 0.63148581]\n"
          ]
        }
      ]
    },
    {
      "cell_type": "markdown",
      "metadata": {
        "id": "Ino-ofBTe9dF"
      },
      "source": [
        "Part 04: Defining the LOGISTIC REGRESSION function"
      ]
    },
    {
      "cell_type": "code",
      "metadata": {
        "id": "fEJIPh3DfF7N"
      },
      "source": [
        "# Goal: Defining the Logistic Reression function\n",
        "# Input: xtr, ytr (the train x andd y), xte, lr\n",
        "# Output: a prediction y_pred\n",
        "def Log_Reg (xtr,ytr,xte,lr=0.02,epoch=10):\n",
        "    # Finding the weights from grad descent\n",
        "    W = Grad_Des(xtr,ytr,lr,epoch)\n",
        "    # Adjusting the shape of xtr\n",
        "    xte = np.c_[np.ones((xte.shape[0],1)),xte]\n",
        "    # Finding the prediction\n",
        "    y_pred = sigmoid(W, xte)\n",
        "    # Return the prediction\n",
        "    return y_pred"
      ],
      "execution_count": null,
      "outputs": []
    },
    {
      "cell_type": "code",
      "metadata": {
        "id": "biofnv-niK1E"
      },
      "source": [
        "yte_p = Log_Reg(xtr,ytr,xte)"
      ],
      "execution_count": null,
      "outputs": []
    },
    {
      "cell_type": "code",
      "metadata": {
        "colab": {
          "base_uri": "https://localhost:8080/"
        },
        "id": "1Mj1W9gJiVNj",
        "outputId": "23e35a95-2c9c-4611-a9e4-bbe6c02dc279"
      },
      "source": [
        "# Finding the number of correct answers\n",
        "correct = 0\n",
        "idx = xte.index\n",
        "for i, j in zip(idx, range(int(yte_p.shape[0]))):\n",
        "    if yte[i] == yte_p[j]:\n",
        "        correct += 1\n",
        "print('The accuracy of the Log Reg is :',correct/len(idx))"
      ],
      "execution_count": null,
      "outputs": [
        {
          "output_type": "stream",
          "name": "stdout",
          "text": [
            "The accuracy of the Log Reg is : 0.72\n"
          ]
        }
      ]
    },
    {
      "cell_type": "markdown",
      "metadata": {
        "id": "T3itT9JWj1aq"
      },
      "source": [
        "Part 05: The Accuracy Calculator"
      ]
    },
    {
      "cell_type": "code",
      "metadata": {
        "id": "Dij58Nuqj5gA"
      },
      "source": [
        "# Goal: Define  acc_cal\n",
        "# Input: x (an array), x_pred (an array)\n",
        "# Output: The accuracy\n",
        "def acc_cal (y, yp):\n",
        "    crt = 0\n",
        "    for i, j in zip(range(len(y)), range(len(yp))):\n",
        "        if y[i]  == yp[j]:\n",
        "            crt += 1\n",
        "    print('The accuracy of the process is :',crt/len(y))"
      ],
      "execution_count": null,
      "outputs": []
    },
    {
      "cell_type": "code",
      "metadata": {
        "colab": {
          "base_uri": "https://localhost:8080/"
        },
        "id": "nOPL6Z8Zkm0R",
        "outputId": "b58564cc-10f1-4862-c940-83f69dfe51df"
      },
      "source": [
        "acc_cal(np.array(yte),yte_p)"
      ],
      "execution_count": null,
      "outputs": [
        {
          "output_type": "stream",
          "name": "stdout",
          "text": [
            "The accuracy of the process is : 0.72\n"
          ]
        }
      ]
    },
    {
      "cell_type": "markdown",
      "metadata": {
        "id": "hBqSOfIBmGaR"
      },
      "source": [
        "\n",
        "\n",
        "---\n",
        "\n"
      ]
    }
  ]
}